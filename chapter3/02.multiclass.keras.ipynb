{
 "cells": [
  {
   "cell_type": "code",
   "execution_count": 1,
   "metadata": {},
   "outputs": [
    {
     "name": "stderr",
     "output_type": "stream",
     "text": [
      "Using TensorFlow backend.\n"
     ]
    }
   ],
   "source": [
    "import matplotlib.pyplot as plot\n",
    "import numpy as np\n",
    "\n",
    "from keras.models import Sequential\n",
    "from keras.layers import Dense, Activation\n",
    "from keras.optimizers import SGD\n",
    "\n",
    "from sklearn.utils import shuffle"
   ]
  },
  {
   "cell_type": "code",
   "execution_count": 2,
   "metadata": {},
   "outputs": [],
   "source": [
    "# 학습에 필요한 데이터 정리\n",
    "M = 2\n",
    "K = 3\n",
    "n = 100\n",
    "N = n * K"
   ]
  },
  {
   "cell_type": "code",
   "execution_count": 3,
   "metadata": {},
   "outputs": [],
   "source": [
    "# 샘플 데이터\n",
    "X1 = np.random.randn(n, M) + np.array([0, 10])\n",
    "X2 = np.random.randn(n, M) + np.array([5, 5])\n",
    "X3 = np.random.randn(n, M) + np.array([10, 0])\n",
    "\n",
    "Y1 = np.array([[1, 0, 0] for i in range(n)])\n",
    "Y2 = np.array([[0, 1, 0] for i in range(n)])\n",
    "Y3 = np.array([[0, 0, 1] for i in range(n)])\n",
    "\n",
    "X = np.concatenate((X1, X2, X3), axis=0)\n",
    "Y = np.concatenate((Y1, Y2, Y3), axis=0)"
   ]
  },
  {
   "cell_type": "code",
   "execution_count": 4,
   "metadata": {},
   "outputs": [],
   "source": [
    "# 모델 정의\n",
    "model = Sequential([\n",
    "    Dense(input_dim=M, units=K),\n",
    "    Activation('softmax')\n",
    "])\n",
    "model.compile(loss='categorical_crossentropy', optimizer=SGD(lr=0.1))"
   ]
  },
  {
   "cell_type": "code",
   "execution_count": 5,
   "metadata": {},
   "outputs": [],
   "source": [
    "# 미니 배치의 크기\n",
    "minibatch_size = 50"
   ]
  },
  {
   "cell_type": "code",
   "execution_count": 6,
   "metadata": {},
   "outputs": [
    {
     "name": "stdout",
     "output_type": "stream",
     "text": [
      "Epoch 1/20\n",
      "300/300 [==============================] - 0s 485us/step - loss: 4.3952\n",
      "Epoch 2/20\n",
      "300/300 [==============================] - 0s 48us/step - loss: 0.1692\n",
      "Epoch 3/20\n",
      "300/300 [==============================] - 0s 100us/step - loss: 0.1053\n",
      "Epoch 4/20\n",
      "300/300 [==============================] - 0s 140us/step - loss: 0.0797\n",
      "Epoch 5/20\n",
      "300/300 [==============================] - 0s 101us/step - loss: 0.0676\n",
      "Epoch 6/20\n",
      "300/300 [==============================] - 0s 78us/step - loss: 0.0597\n",
      "Epoch 7/20\n",
      "300/300 [==============================] - 0s 70us/step - loss: 0.0537\n",
      "Epoch 8/20\n",
      "300/300 [==============================] - 0s 63us/step - loss: 0.0499\n",
      "Epoch 9/20\n",
      "300/300 [==============================] - 0s 76us/step - loss: 0.0468\n",
      "Epoch 10/20\n",
      "300/300 [==============================] - 0s 72us/step - loss: 0.0437\n",
      "Epoch 11/20\n",
      "300/300 [==============================] - 0s 101us/step - loss: 0.0418\n",
      "Epoch 12/20\n",
      "300/300 [==============================] - 0s 56us/step - loss: 0.0394\n",
      "Epoch 13/20\n",
      "300/300 [==============================] - 0s 53us/step - loss: 0.0380\n",
      "Epoch 14/20\n",
      "300/300 [==============================] - 0s 49us/step - loss: 0.0367\n",
      "Epoch 15/20\n",
      "300/300 [==============================] - 0s 52us/step - loss: 0.0350\n",
      "Epoch 16/20\n",
      "300/300 [==============================] - 0s 55us/step - loss: 0.0338\n",
      "Epoch 17/20\n",
      "300/300 [==============================] - 0s 54us/step - loss: 0.0334\n",
      "Epoch 18/20\n",
      "300/300 [==============================] - 0s 47us/step - loss: 0.0322\n",
      "Epoch 19/20\n",
      "300/300 [==============================] - 0s 58us/step - loss: 0.0310\n",
      "Epoch 20/20\n",
      "300/300 [==============================] - 0s 46us/step - loss: 0.0300\n"
     ]
    },
    {
     "data": {
      "text/plain": [
       "<keras.callbacks.History at 0x123caaa90>"
      ]
     },
     "execution_count": 6,
     "metadata": {},
     "output_type": "execute_result"
    }
   ],
   "source": [
    "# 학습\n",
    "model.fit(X, Y, epochs=20, batch_size=minibatch_size)"
   ]
  },
  {
   "cell_type": "code",
   "execution_count": 7,
   "metadata": {},
   "outputs": [],
   "source": [
    "# 분류가 잘 되었는지 테스트\n",
    "X_, Y_ = shuffle(X, Y)\n",
    "classes = model.predict_classes(X_[0:10], batch_size=minibatch_size)\n",
    "prob = model.predict_proba(X_[0:10], batch_size=minibatch_size)"
   ]
  },
  {
   "cell_type": "code",
   "execution_count": 8,
   "metadata": {},
   "outputs": [
    {
     "name": "stdout",
     "output_type": "stream",
     "text": [
      "classified:\n",
      "[ True  True  True  True  True  True  True  True  True  True]\n"
     ]
    }
   ],
   "source": [
    "print('classified:')\n",
    "print(np.argmax(model.predict(X_[0:10]), axis=1) == classes)"
   ]
  },
  {
   "cell_type": "code",
   "execution_count": 9,
   "metadata": {},
   "outputs": [
    {
     "name": "stdout",
     "output_type": "stream",
     "text": [
      "prob:\n",
      "[[9.8865509e-01 1.1344897e-02 1.2537251e-09]\n",
      " [9.9833626e-01 1.6637840e-03 1.7805871e-10]\n",
      " [7.6950748e-09 1.2087158e-02 9.8791283e-01]\n",
      " [8.4641855e-10 6.9245044e-03 9.9307549e-01]\n",
      " [9.6260822e-01 3.7391674e-02 1.2131213e-07]\n",
      " [7.7679157e-02 9.1886270e-01 3.4582464e-03]\n",
      " [2.2107007e-09 8.0751264e-03 9.9192482e-01]\n",
      " [9.9896395e-01 1.0360912e-03 5.1581919e-11]\n",
      " [1.5374191e-02 9.8444760e-01 1.7810713e-04]\n",
      " [2.0533945e-02 9.7690821e-01 2.5579012e-03]]\n"
     ]
    }
   ],
   "source": [
    "print('prob:')\n",
    "print(prob)"
   ]
  }
 ],
 "metadata": {
  "kernelspec": {
   "display_name": "Python 3",
   "language": "python",
   "name": "python3"
  },
  "language_info": {
   "codemirror_mode": {
    "name": "ipython",
    "version": 3
   },
   "file_extension": ".py",
   "mimetype": "text/x-python",
   "name": "python",
   "nbconvert_exporter": "python",
   "pygments_lexer": "ipython3",
   "version": "3.6.5"
  }
 },
 "nbformat": 4,
 "nbformat_minor": 2
}
